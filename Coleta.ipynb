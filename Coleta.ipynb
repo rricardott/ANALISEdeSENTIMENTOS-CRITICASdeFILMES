{
 "cells": [
  {
   "cell_type": "code",
   "execution_count": null,
   "id": "8191305c",
   "metadata": {},
   "outputs": [],
   "source": [
    "# COLETANDO CÓDIGOS DOS FILMES \n",
    "# Importando bibliotecas\n",
    "import bs4\n",
    "import urllib.request as urllib_request\n",
    "import pandas as pd\n",
    "\n",
    "from urllib.request import urlopen\n",
    "from bs4 import BeautifulSoup\n",
    "\n",
    "# Declarando variável para armazenar os códigos dos filmes\n",
    "listaCODfilmesCompleta = []\n",
    "\n",
    "# Iterando pelas primeitas 30 páginas do site para coletar os códigos dos filmes\n",
    "for i in range(30):\n",
    "    resposta = urlopen( 'https://www.adorocinema.com/filmes-todos/?page=' + str(i + 1))\n",
    "    html = resposta.read()\n",
    "    soup = BeautifulSoup(html, 'html.parser')\n",
    "    capturaCODfilmes = soup.find('section' , {'class' : 'section section-wrap gd-3-cols gd-gap-20 row-col-sticky'}).findAll('a' , class_='meta-title-link')\n",
    "    listaCODfilmes = []\n",
    "    # Iterando para extrair e armazenar a informação de interesse da TAG em listaCODfilmes\n",
    "    for x in range(len(capturaCODfilmes)):\n",
    "        s = str(capturaCODfilmes[x]).replace('<a class=\"meta-title-link\" href=\"/filmes/filme-', '').partition('/')\n",
    "        l = list(s)\n",
    "        p = l[0]\n",
    "        listaCODfilmes.append(int(p))\n",
    "    listaCODfilmesCompleta.extend(listaCODfilmes)\n",
    "    "
   ]
  },
  {
   "cell_type": "code",
   "execution_count": null,
   "id": "ca138465",
   "metadata": {},
   "outputs": [],
   "source": [
    "n=20\n",
    "\n",
    "output=[listaCODfilmesCompleta[i:i + n] for i in range(0, len(listaCODfilmesCompleta), n)]\n",
    "print(output)"
   ]
  }
 ],
 "metadata": {
  "kernelspec": {
   "display_name": "Python 3 (ipykernel)",
   "language": "python",
   "name": "python3"
  },
  "language_info": {
   "codemirror_mode": {
    "name": "ipython",
    "version": 3
   },
   "file_extension": ".py",
   "mimetype": "text/x-python",
   "name": "python",
   "nbconvert_exporter": "python",
   "pygments_lexer": "ipython3",
   "version": "3.9.7"
  }
 },
 "nbformat": 4,
 "nbformat_minor": 5
}
